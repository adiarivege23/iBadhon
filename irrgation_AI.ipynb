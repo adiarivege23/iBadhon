{
  "nbformat": 4,
  "nbformat_minor": 0,
  "metadata": {
    "colab": {
      "provenance": [],
      "authorship_tag": "ABX9TyPTAey1CFmIK1k0Dg+i64li",
      "include_colab_link": true
    },
    "kernelspec": {
      "name": "python3",
      "display_name": "Python 3"
    },
    "language_info": {
      "name": "python"
    }
  },
  "cells": [
    {
      "cell_type": "markdown",
      "metadata": {
        "id": "view-in-github",
        "colab_type": "text"
      },
      "source": [
        "<a href=\"https://colab.research.google.com/github/adiarivege23/iBadhon/blob/main/irrgation_AI.ipynb\" target=\"_parent\"><img src=\"https://colab.research.google.com/assets/colab-badge.svg\" alt=\"Open In Colab\"/></a>"
      ]
    },
    {
      "cell_type": "code",
      "source": [
        "import pandas as pd\n",
        "import numpy as np\n",
        "from sklearn.model_selection import train_test_split\n",
        "from sklearn.linear_model import LinearRegression\n",
        "!pip install pandas numpy scikit-learn requests beautifulsoup4"
      ],
      "metadata": {
        "colab": {
          "base_uri": "https://localhost:8080/"
        },
        "collapsed": true,
        "id": "Q-fwNNt6-8es",
        "outputId": "62773555-9414-4ad7-d02e-eb1bff215cfa"
      },
      "execution_count": null,
      "outputs": [
        {
          "output_type": "stream",
          "name": "stdout",
          "text": [
            "Requirement already satisfied: pandas in /usr/local/lib/python3.11/dist-packages (2.2.2)\n",
            "Requirement already satisfied: numpy in /usr/local/lib/python3.11/dist-packages (2.0.2)\n",
            "Requirement already satisfied: scikit-learn in /usr/local/lib/python3.11/dist-packages (1.6.1)\n",
            "Requirement already satisfied: requests in /usr/local/lib/python3.11/dist-packages (2.32.3)\n",
            "Requirement already satisfied: beautifulsoup4 in /usr/local/lib/python3.11/dist-packages (4.13.4)\n",
            "Requirement already satisfied: python-dateutil>=2.8.2 in /usr/local/lib/python3.11/dist-packages (from pandas) (2.8.2)\n",
            "Requirement already satisfied: pytz>=2020.1 in /usr/local/lib/python3.11/dist-packages (from pandas) (2025.2)\n",
            "Requirement already satisfied: tzdata>=2022.7 in /usr/local/lib/python3.11/dist-packages (from pandas) (2025.2)\n",
            "Requirement already satisfied: scipy>=1.6.0 in /usr/local/lib/python3.11/dist-packages (from scikit-learn) (1.14.1)\n",
            "Requirement already satisfied: joblib>=1.2.0 in /usr/local/lib/python3.11/dist-packages (from scikit-learn) (1.4.2)\n",
            "Requirement already satisfied: threadpoolctl>=3.1.0 in /usr/local/lib/python3.11/dist-packages (from scikit-learn) (3.6.0)\n",
            "Requirement already satisfied: charset-normalizer<4,>=2 in /usr/local/lib/python3.11/dist-packages (from requests) (3.4.1)\n",
            "Requirement already satisfied: idna<4,>=2.5 in /usr/local/lib/python3.11/dist-packages (from requests) (3.10)\n",
            "Requirement already satisfied: urllib3<3,>=1.21.1 in /usr/local/lib/python3.11/dist-packages (from requests) (2.3.0)\n",
            "Requirement already satisfied: certifi>=2017.4.17 in /usr/local/lib/python3.11/dist-packages (from requests) (2025.1.31)\n",
            "Requirement already satisfied: soupsieve>1.2 in /usr/local/lib/python3.11/dist-packages (from beautifulsoup4) (2.6)\n",
            "Requirement already satisfied: typing-extensions>=4.0.0 in /usr/local/lib/python3.11/dist-packages (from beautifulsoup4) (4.13.2)\n",
            "Requirement already satisfied: six>=1.5 in /usr/local/lib/python3.11/dist-packages (from python-dateutil>=2.8.2->pandas) (1.17.0)\n"
          ]
        }
      ]
    },
    {
      "cell_type": "code",
      "execution_count": null,
      "metadata": {
        "colab": {
          "base_uri": "https://localhost:8080/"
        },
        "collapsed": true,
        "id": "tahiCVdH-Mx7",
        "outputId": "ff33c624-ac61-4923-b483-e3829cdfb19f"
      },
      "outputs": [
        {
          "output_type": "stream",
          "name": "stdout",
          "text": [
            "Requirement already satisfied: pandas in /usr/local/lib/python3.11/dist-packages (2.2.2)\n",
            "Requirement already satisfied: numpy in /usr/local/lib/python3.11/dist-packages (2.0.2)\n",
            "Requirement already satisfied: scikit-learn in /usr/local/lib/python3.11/dist-packages (1.6.1)\n",
            "Requirement already satisfied: python-dateutil>=2.8.2 in /usr/local/lib/python3.11/dist-packages (from pandas) (2.8.2)\n",
            "Requirement already satisfied: pytz>=2020.1 in /usr/local/lib/python3.11/dist-packages (from pandas) (2025.2)\n",
            "Requirement already satisfied: tzdata>=2022.7 in /usr/local/lib/python3.11/dist-packages (from pandas) (2025.2)\n",
            "Requirement already satisfied: scipy>=1.6.0 in /usr/local/lib/python3.11/dist-packages (from scikit-learn) (1.14.1)\n",
            "Requirement already satisfied: joblib>=1.2.0 in /usr/local/lib/python3.11/dist-packages (from scikit-learn) (1.4.2)\n",
            "Requirement already satisfied: threadpoolctl>=3.1.0 in /usr/local/lib/python3.11/dist-packages (from scikit-learn) (3.6.0)\n",
            "Requirement already satisfied: six>=1.5 in /usr/local/lib/python3.11/dist-packages (from python-dateutil>=2.8.2->pandas) (1.17.0)\n"
          ]
        }
      ],
      "source": [
        "!pip install pandas numpy scikit-learn"
      ]
    },
    {
      "cell_type": "code",
      "source": [
        "import pandas as pd\n",
        "import numpy as np\n",
        "from sklearn.model_selection import train_test_split\n",
        "from sklearn.linear_model import LinearRegression"
      ],
      "metadata": {
        "id": "pNxpPZdn-kZu"
      },
      "execution_count": null,
      "outputs": []
    },
    {
      "cell_type": "code",
      "source": [
        "import pandas as pd\n",
        "import numpy as np\n",
        "\n",
        "# Create sample data with new features\n",
        "data = {\n",
        "    'soil_moisture': np.random.rand(100),\n",
        "    'temperature': np.random.randint(20, 35, size=100),\n",
        "    'humidity': np.random.randint(40, 90, size=100),\n",
        "    'irrigation_amount': np.random.rand(100) * 5,\n",
        "    'Rainfall': np.random.randint(0, 50, size=100),  # Example rainfall data\n",
        "    'Soil_nitrogen': np.random.rand(100) * 0.8,  # Example soil nitrogen data\n",
        "    'Days_to_harvest': np.random.randint(80, 120, size=100)  # Example days to harvest data\n",
        "}\n",
        "\n",
        "# Create pandas DataFrame\n",
        "irrigation_data = pd.DataFrame(data)\n",
        "\n",
        "# Save to CSV (optional)\n",
        "irrigation_data.to_csv('irrigation_data.csv', index=False)\n",
        "\n",
        "print(irrigation_data.head())"
      ],
      "metadata": {
        "colab": {
          "base_uri": "https://localhost:8080/"
        },
        "collapsed": true,
        "id": "PDyaMDEs_v3b",
        "outputId": "052271c4-aea1-4bc3-d50c-e194b2815045"
      },
      "execution_count": null,
      "outputs": [
        {
          "output_type": "stream",
          "name": "stdout",
          "text": [
            "   soil_moisture  temperature  humidity  irrigation_amount  Rainfall  \\\n",
            "0       0.659344           29        79           4.730374        24   \n",
            "1       0.616285           32        40           4.492326         8   \n",
            "2       0.173045           23        62           1.225789        42   \n",
            "3       0.972437           20        85           1.306556         2   \n",
            "4       0.416310           28        45           3.384449        46   \n",
            "\n",
            "   Soil_nitrogen  Days_to_harvest  \n",
            "0       0.662980               89  \n",
            "1       0.065596              116  \n",
            "2       0.236819              109  \n",
            "3       0.122230               90  \n",
            "4       0.615207              119  \n"
          ]
        }
      ]
    },
    {
      "cell_type": "code",
      "source": [
        "data = pd.read_csv('irrigation_data.csv')"
      ],
      "metadata": {
        "id": "QW0E7ECz-p4D"
      },
      "execution_count": null,
      "outputs": []
    },
    {
      "cell_type": "code",
      "source": [
        "# Example: Handling missing values by filling with the mean\n",
        "data.fillna(data.mean(), inplace=True)"
      ],
      "metadata": {
        "id": "iJ4UnoW3-rVh"
      },
      "execution_count": null,
      "outputs": []
    },
    {
      "cell_type": "code",
      "source": [
        "from sklearn.model_selection import train_test_split\n",
        "from sklearn.linear_model import LinearRegression\n",
        "\n",
        "# Select features and target\n",
        "X = data[['Rainfall', 'temperature', 'Soil_nitrogen', 'soil_moisture', 'Days_to_harvest']]\n",
        "y = data['irrigation_amount']"
      ],
      "metadata": {
        "id": "d5yWxuC7-s0n"
      },
      "execution_count": null,
      "outputs": []
    },
    {
      "source": [
        "# ... (previous code for data loading and preparation)\n",
        "\n",
        "# Split data\n",
        "X = data[['Rainfall', 'temperature', 'Soil_nitrogen', 'soil_moisture', 'Days_to_harvest']]\n",
        "y = data['irrigation_amount']\n",
        "X_train, X_test, y_train, y_test = train_test_split(X, y, test_size=0.2, random_state=42)\n",
        "\n",
        "# Create and train the model\n",
        "model = LinearRegression()\n",
        "model.fit(X_train, y_train)\n",
        "\n",
        "# Get user input (include new features)\n",
        "soil_moisture = float(input(\"Enter previous year soil moisture: \"))\n",
        "temperature = float(input(\"Enter previous year temperature: \"))\n",
        "Rainfall = float(input(\"Enter previous year Rainfall: \"))\n",
        "Soil_nitrogen = float(input(\"Enter previous year Soil_nitrogen: \"))\n",
        "Days_to_harvest = float(input(\"Enter previous year Days_to_harvest: \"))\n",
        "area = float(input(\"Enter area (in relevant units, e.g., acres, hectares): \"))\n",
        "\n",
        "\n",
        "\n",
        "# Make prediction\n",
        "predicted_irrigation_per_unit_area = model.predict(new_data)\n",
        "\n",
        "# Convert to liters (assuming original unit is gallons per acre) and adjust for area\n",
        "conversion_factor = 3.78541  # 1 gallon = 3.78541 liters\n",
        "# ... (previous code for data loading and preparation)\n",
        "\n",
        "# Split data\n",
        "X = data[['Rainfall', 'temperature', 'Soil_nitrogen', 'soil_moisture', 'Days_to_harvest']]\n",
        "y = data['irrigation_amount']\n",
        "X_train, X_test, y_train, y_test = train_test_split(X, y, test_size=0.2, random_state=42)\n",
        "\n",
        "# Create and train the model\n",
        "model = LinearRegression()\n",
        "model.fit(X_train, y_train)\n",
        "\n",
        "# Get user input (include new features)\n",
        "soil_moisture = float(input(\"Enter recent year soil moisture: \"))\n",
        "temperature = float(input(\"Enter recent year temperature: \"))\n",
        "Rainfall = float(input(\"Enter recent year Rainfall: \"))\n",
        "Soil_nitrogen = float(input(\"Enter recent year Soil_nitrogen: \"))\n",
        "Days_to_harvest = float(input(\"Enter recent year Days_to_harvest: \"))\n",
        "area = float(input(\"Enter area (in relevant units, e.g., acres, hectares): \"))\n",
        "\n",
        "\n",
        "# Create a DataFrame for prediction (ensure features and order match training data)\n",
        "new_data = pd.DataFrame({\n",
        "    'Rainfall': [Rainfall],  # Rainfall first to match order in X\n",
        "    'temperature': [temperature],\n",
        "    'Soil_nitrogen': [Soil_nitrogen],\n",
        "    'soil_moisture': [soil_moisture],\n",
        "    'Days_to_harvest': [Days_to_harvest]\n",
        "})\n",
        "\n",
        "# Make prediction\n",
        "predicted_irrigation_per_unit_area = model.predict(new_data)\n",
        "\n",
        "# Convert to liters (assuming original unit is gallons per acre) and adjust for area\n",
        "conversion_factor = 3.78541  # 1 gallon = 3.78541 liters\n",
        "predicted_irrigation_liters = predicted_irrigation_per_unit_area[0] * area * conversion_factor\n",
        "\n",
        "print(f\"Predicted irrigation amount (liters): {predicted_irrigation_liters}\")"
      ],
      "cell_type": "code",
      "metadata": {
        "id": "QVxoSY-HBg4p",
        "outputId": "23f57025-ce07-439a-a7fb-a18f5c895ee7",
        "colab": {
          "base_uri": "https://localhost:8080/"
        }
      },
      "execution_count": 17,
      "outputs": [
        {
          "output_type": "stream",
          "name": "stdout",
          "text": [
            "Enter previous year soil moisture: 44\n",
            "Enter previous year temperature: 23\n",
            "Enter previous year Rainfall: 10\n",
            "Enter previous year Soil_nitrogen: 24\n",
            "Enter previous year Days_to_harvest: 30\n",
            "Enter area (in relevant units, e.g., acres, hectares): 1000\n",
            "Enter recent year soil moisture: 123\n",
            "Enter recent year temperature: 56\n",
            "Enter recent year Rainfall: 10\n",
            "Enter recent year Soil_nitrogen: 12\n",
            "Enter recent year Days_to_harvest: 30\n",
            "Enter area (in relevant units, e.g., acres, hectares): 1000\n",
            "Predicted irrigation amount (liters): -412362.10235834285\n"
          ]
        }
      ]
    }
  ]
}